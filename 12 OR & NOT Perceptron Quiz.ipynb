{
 "cells": [
  {
   "cell_type": "markdown",
   "metadata": {
    "deletable": true,
    "editable": true
   },
   "source": [
    "# OR & NOT Perceptron Quiz"
   ]
  },
  {
   "cell_type": "markdown",
   "metadata": {
    "deletable": true,
    "editable": true
   },
   "source": [
    "OR Perceptron\n",
    "The OR perceptron is very similar to an AND perceptron. In the image below, the OR perceptron has the same line as the AND perceptron, except the line is shifted down. What can you do to the weights and/or bias to achieve this? Use the following AND perceptron to create an OR Perceptron.\n",
    "\n",
    "QUESTION 1 OF 2\n",
    "\n",
    "What are two ways to go from an AND perceptron to an OR perceptron?\n",
    "\n",
    "__Increase the weights__\n",
    "\n",
    "Decrease the weights\n",
    "\n",
    "Increase a single weight\n",
    "\n",
    "Decrease a single weight\n",
    "\n",
    "Increase the magnitude of the bias\n",
    "\n",
    "__Decrease the magnitude of the bias__\n",
    "\n",
    "SUBMIT"
   ]
  },
  {
   "cell_type": "code",
   "execution_count": 1,
   "metadata": {
    "collapsed": false,
    "deletable": true,
    "editable": true
   },
   "outputs": [
    {
     "name": "stdout",
     "output_type": "stream",
     "text": [
      "(0, 0) 1\n",
      "-0.5 -1.0 0.5\n",
      "\n",
      "0.5 1 Yes\n",
      "\n",
      "[[0, 0, 0.5, 1, 'Yes']]\n",
      "\n",
      "(0, 1) 0\n",
      "-0.5 -1.0 0.5\n",
      "\n",
      "-0.5 0 Yes\n",
      "\n",
      "[[0, 0, 0.5, 1, 'Yes'], [0, 1, -0.5, 0, 'Yes']]\n",
      "\n",
      "(1, 0) 1\n",
      "-0.5 -1.0 0.5\n",
      "\n",
      "0.0 1 Yes\n",
      "\n",
      "[[0, 0, 0.5, 1, 'Yes'], [0, 1, -0.5, 0, 'Yes'], [1, 0, 0.0, 1, 'Yes']]\n",
      "\n",
      "(1, 1) 0\n",
      "-0.5 -1.0 0.5\n",
      "\n",
      "-1.0 0 Yes\n",
      "\n",
      "[[0, 0, 0.5, 1, 'Yes'], [0, 1, -0.5, 0, 'Yes'], [1, 0, 0.0, 1, 'Yes'], [1, 1, -1.0, 0, 'Yes']]\n",
      "\n",
      "Nice!  You got it all correct.\n",
      "\n",
      "Input 1    Input 2    Linear Combination    Activation Output   Is Correct\n",
      "      0          0                   0.5                    1          Yes\n",
      "      0          1                  -0.5                    0          Yes\n",
      "      1          0                   0.0                    1          Yes\n",
      "      1          1                  -1.0                    0          Yes\n"
     ]
    }
   ],
   "source": [
    "import pandas as pd\n",
    "\n",
    "# TODO: Set weight1, weight2, and bias\n",
    "weight1 = -0.5\n",
    "weight2 = -1.0\n",
    "bias = 0.5\n",
    "\n",
    "\n",
    "# DON'T CHANGE ANYTHING BELOW\n",
    "# Inputs and outputs\n",
    "test_inputs = [(0, 0), (0, 1), (1, 0), (1, 1)]\n",
    "correct_outputs = [True, False, True, False]\n",
    "outputs = []\n",
    "#print (correct_output)\n",
    "\n",
    "\n",
    "# Generate and check output\n",
    "for test_input, correct_output in zip(test_inputs, correct_outputs):\n",
    "    print (test_input, int(correct_output))\n",
    "    print (weight1, weight2, bias)\n",
    "    input(\"\")\n",
    "    linear_combination = weight1 * test_input[0] + weight2 * test_input[1] + bias\n",
    "    output = int(linear_combination >= 0)\n",
    "    is_correct_string = 'Yes' if output == correct_output else 'No'\n",
    "    print (linear_combination, output, is_correct_string)\n",
    "    input(\"\")\n",
    "    outputs.append([test_input[0], test_input[1], linear_combination, output, is_correct_string])\n",
    "    print (outputs)\n",
    "    input(\"\")\n",
    "\n",
    "# Print output\n",
    "num_wrong = len([output[4] for output in outputs if output[4] == 'No'])\n",
    "output_frame = pd.DataFrame(outputs, columns=['Input 1', '  Input 2', '  Linear Combination', '  Activation Output', '  Is Correct'])\n",
    "if not num_wrong:\n",
    "    print('Nice!  You got it all correct.\\n')\n",
    "else:\n",
    "    print('You got {} wrong.  Keep trying!\\n'.format(num_wrong))\n",
    "print(output_frame.to_string(index=False))"
   ]
  },
  {
   "cell_type": "markdown",
   "metadata": {
    "deletable": true,
    "editable": true
   },
   "source": [
    "zip() in conjunction with the * operator can be used to unzip a list:"
   ]
  },
  {
   "cell_type": "code",
   "execution_count": null,
   "metadata": {
    "collapsed": false,
    "deletable": true,
    "editable": true
   },
   "outputs": [],
   "source": [
    "x = [[1], [2], [3]]\n",
    "y = [4, 5, 6]\n",
    "zipped = zip(x, y)\n",
    "print (list(zipped))\n",
    "\n",
    "x2, y2 = zip(*zip(x, y))\n",
    "print (x2)\n",
    "print (y2)\n",
    "if x == list(x2) and y == list(y2):\n",
    "    print (list(x))\n",
    "    print (list(x2))\n",
    "    print (list(y))\n",
    "    print (list(y2))\n"
   ]
  },
  {
   "cell_type": "code",
   "execution_count": 4,
   "metadata": {
    "collapsed": false,
    "deletable": true,
    "editable": true
   },
   "outputs": [
    {
     "name": "stdout",
     "output_type": "stream",
     "text": [
      "[0, 0] True\n",
      "\n",
      "(0, 1) False\n",
      "\n",
      "(1, 0) True\n",
      "\n",
      "(1, 1) False\n",
      "\n",
      "(0, 3) 1\n",
      "\n"
     ]
    }
   ],
   "source": [
    "test_inputs = [[0, 0], (0, 1), (1, 0), (1, 1), (0, 3)]\n",
    "correct_outputs = [True, False, True, False, 1]\n",
    "\n",
    "for test_input, correct_output in zip(test_inputs, correct_outputs):\n",
    "    print (test_input, correct_output)\n",
    "    input(\"\")"
   ]
  },
  {
   "cell_type": "markdown",
   "metadata": {
    "deletable": true,
    "editable": true
   },
   "source": [
    "The hello program of The Classic First Program always does the same thing. This is not very interesting. Programs are only going to be reused if they can act on a variety of data. One way to get data is directly from the user. Modify the hello.py program as follows in the editor, and save it with File ‣ Save As....`, using the name hello_you.py."
   ]
  },
  {
   "cell_type": "code",
   "execution_count": null,
   "metadata": {
    "collapsed": false,
    "deletable": true,
    "editable": true
   },
   "outputs": [],
   "source": [
    "person = input('Enter your name: ')\n",
    "print('Hello', person)"
   ]
  },
  {
   "cell_type": "markdown",
   "metadata": {
    "deletable": true,
    "editable": true
   },
   "source": [
    "The break statement, like in C, breaks out of the smallest enclosing for or while loop.\n",
    "\n",
    "Loop statements may have an else clause; it is executed when the loop terminates through exhaustion of the list (with for) or when the condition becomes false (with while), but not when the loop is terminated by a break statement. This is exemplified by the following loop, which searches for prime numbers:"
   ]
  },
  {
   "cell_type": "code",
   "execution_count": null,
   "metadata": {
    "collapsed": false,
    "deletable": true,
    "editable": true
   },
   "outputs": [],
   "source": [
    "for n in range(2, 10):\n",
    "    for x in range(2, n):\n",
    "        if n % x == 0:\n",
    "            print (n, 'equals', x, '*', n/x)\n",
    "            break\n",
    "    else:\n",
    "        # loop fell through without finding a factor\n",
    "        print (n, 'is a prime number')"
   ]
  },
  {
   "cell_type": "code",
   "execution_count": 3,
   "metadata": {
    "collapsed": false,
    "deletable": true,
    "editable": true
   },
   "outputs": [
    {
     "name": "stdout",
     "output_type": "stream",
     "text": [
      "[0, 0] True\n",
      "\n"
     ]
    }
   ],
   "source": [
    "test_inputs = [[0, 0], (0, 1), (1, 0), (1, 1), (0, 3)]\n",
    "correct_outputs = [True, False, True, False, 1]  \n",
    "\n",
    "for test_input, correct_output in zip(test_inputs, correct_outputs):\n",
    "    print (test_input, correct_output)\n",
    "    input(\"\")\n",
    "    break"
   ]
  },
  {
   "cell_type": "markdown",
   "metadata": {
    "deletable": true,
    "editable": true
   },
   "source": [
    "The list data type has some more methods. Here are all of the methods of list objects:\n",
    "\n",
    "list.append(x)\n",
    "Add an item to the end of the list; equivalent to a[len(a):] = [x]."
   ]
  },
  {
   "cell_type": "code",
   "execution_count": null,
   "metadata": {
    "collapsed": false,
    "deletable": true,
    "editable": true
   },
   "outputs": [],
   "source": [
    "list = []\n",
    "x=1\n",
    "for i in range(5):\n",
    "    list.append(x)\n",
    "    print (list)\n",
    "    input(\"\")"
   ]
  }
 ],
 "metadata": {
  "kernelspec": {
   "display_name": "Python 3",
   "language": "python",
   "name": "python3"
  },
  "language_info": {
   "codemirror_mode": {
    "name": "ipython",
    "version": 3
   },
   "file_extension": ".py",
   "mimetype": "text/x-python",
   "name": "python",
   "nbconvert_exporter": "python",
   "pygments_lexer": "ipython3",
   "version": "3.6.1"
  }
 },
 "nbformat": 4,
 "nbformat_minor": 2
}
