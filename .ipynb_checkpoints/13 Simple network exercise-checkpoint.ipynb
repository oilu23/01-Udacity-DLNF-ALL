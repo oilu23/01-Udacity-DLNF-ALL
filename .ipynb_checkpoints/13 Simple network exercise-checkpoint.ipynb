{
 "cells": [
  {
   "cell_type": "markdown",
   "metadata": {
    "deletable": true,
    "editable": true
   },
   "source": [
    "# Simple network exercise\n",
    "Below you'll use Numpy to calculate the output of a simple network with two input nodes and one output node with a sigmoid activation function. Things you'll need to do:\n",
    "\n",
    "Implement the sigmoid function.\n",
    "Calculate the output of the network.\n",
    "As a reminder, the sigmoid function is\n",
    "\n",
    "sigmoid(x)=1/(1+e\n",
    "​−x\n",
    "​​ )\n",
    "\n",
    "For the exponential, you can use Numpy's exponential function, np.exp.\n",
    "\n",
    "And the output of the network is\n",
    "\n",
    "y=f(h)=sigmoid(∑\n",
    "​i\n",
    "​​ w\n",
    "​i\n",
    "​​ x\n",
    "​i\n",
    "​​ +b)\n",
    "\n",
    "For the weights sum, you can do a simple element-wise multiplication and sum, or use Numpy's dot product function."
   ]
  },
  {
   "cell_type": "code",
   "execution_count": 34,
   "metadata": {
    "collapsed": false,
    "deletable": true,
    "editable": true
   },
   "outputs": [
    {
     "name": "stdout",
     "output_type": "stream",
     "text": [
      "(2,)\n",
      "(2,)\n",
      "-0.17\n",
      "\n",
      "Output:\n",
      "0.432907095035\n"
     ]
    }
   ],
   "source": [
    "import numpy as np\n",
    "\n",
    "def sigmoid(x):\n",
    "    # TODO: Implement sigmoid function\n",
    "    sigmoid_fun = 1/(1+np.exp(-x))\n",
    "    return sigmoid_fun\n",
    "\n",
    "inputs = np.array([0.7, -0.3])\n",
    "weights = np.array([0.1, 0.8])\n",
    "bias = -0.1\n",
    "\n",
    "print (inputs.shape)\n",
    "print (weights.shape)\n",
    "\n",
    "# TODO: Calculate the output\n",
    "test_dot= np.dot(weights, inputs)\n",
    "print (test_dot)\n",
    "input(\"\")\n",
    "output = sigmoid(test_dot + bias)\n",
    "\n",
    "print('Output:')\n",
    "print(output)"
   ]
  },
  {
   "cell_type": "code",
   "execution_count": 33,
   "metadata": {
    "collapsed": false,
    "deletable": true,
    "editable": true
   },
   "outputs": [
    {
     "name": "stdout",
     "output_type": "stream",
     "text": [
      "(2, 2)\n",
      "(2, 1)\n",
      "(2,)\n"
     ]
    }
   ],
   "source": [
    "a = np.array([[1,2],[3,4]])\n",
    "print (a.shape)\n",
    "a = np.array([[1],[3]])\n",
    "print (a.shape)\n",
    "a = np.array([1,3])\n",
    "print (a.shape)"
   ]
  },
  {
   "cell_type": "markdown",
   "metadata": {
    "deletable": true,
    "editable": true
   },
   "source": [
    "Calculate the exponential of all elements in the input array."
   ]
  },
  {
   "cell_type": "markdown",
   "metadata": {
    "deletable": true,
    "editable": true
   },
   "source": [
    "The exponential function is e^x where e is a mathematical constant called Euler's number, approximately 2.718281. This value has a close mathematical relationship with pi and the slope of the curve e^x is equal to its value at every point. np.exp() calculates e^x for each value of x in your input array."
   ]
  },
  {
   "cell_type": "code",
   "execution_count": 17,
   "metadata": {
    "collapsed": false,
    "deletable": true,
    "editable": true
   },
   "outputs": [
    {
     "data": {
      "text/plain": [
       "array([ 148.4131591,  148.4131591])"
      ]
     },
     "execution_count": 17,
     "metadata": {},
     "output_type": "execute_result"
    }
   ],
   "source": [
    "x=[5,5]\n",
    "np.exp(x)"
   ]
  },
  {
   "cell_type": "code",
   "execution_count": 20,
   "metadata": {
    "collapsed": false,
    "deletable": true,
    "editable": true
   },
   "outputs": [
    {
     "name": "stdout",
     "output_type": "stream",
     "text": [
      "[  2.71828183   7.3890561   20.08553692]\n"
     ]
    }
   ],
   "source": [
    "ar=np.array([1,2,3])\n",
    "ar=np.exp(ar)\n",
    "print (ar)"
   ]
  },
  {
   "cell_type": "code",
   "execution_count": 3,
   "metadata": {
    "collapsed": false,
    "deletable": true,
    "editable": true
   },
   "outputs": [
    {
     "name": "stdout",
     "output_type": "stream",
     "text": [
      "Linear combination output [-5.4] and Linear combination with bias [-6.4]\n",
      "Heaviside step function output [0]\n",
      "Sigmoid function output [0.9983411989198255]\n",
      "[7, 4]\n",
      "[-0.2, -1]\n",
      "-5.4\n"
     ]
    }
   ],
   "source": [
    "import numpy as np\n",
    "\n",
    "weight_test = -0.2\n",
    "weight_grades = -1\n",
    "bias = -1.0\n",
    "inputs_test = 7\n",
    "inputs_grades = 4\n",
    "\n",
    "#Linear combination\n",
    "output1 = weight_test*inputs_test + weight_grades*inputs_grades\n",
    "print(\"Linear combination output [{}] and Linear combination with bias [{}]\".format(output1, output1+bias))\n",
    "\n",
    "#Heaviside step function\n",
    "hstep_f = 0\n",
    "if bias + output1 < 0:\n",
    "    hstep_f = 0\n",
    "elif bias + output1 >= 0:\n",
    "    hstep_f = 1\n",
    "print(\"Heaviside step function output [{}]\".format(hstep_f))\n",
    "\n",
    "#Sigmoid function\n",
    "sigmoid_fun = 1/(1+np.exp(bias + output1))\n",
    "print(\"Sigmoid function output [{}]\".format(sigmoid_fun))\n",
    "\n",
    "#Second method of Calculating the node's linear combination of inputs and weights\n",
    "x = [inputs_test, inputs_grades]\n",
    "w = [weight_test, weight_grades]\n",
    "print(x)\n",
    "print(w)\n",
    "h = np.dot(x, w)\n",
    "print(h)"
   ]
  }
 ],
 "metadata": {
  "kernelspec": {
   "display_name": "Python 3",
   "language": "python",
   "name": "python3"
  },
  "language_info": {
   "codemirror_mode": {
    "name": "ipython",
    "version": 3
   },
   "file_extension": ".py",
   "mimetype": "text/x-python",
   "name": "python",
   "nbconvert_exporter": "python",
   "pygments_lexer": "ipython3",
   "version": "3.6.1"
  }
 },
 "nbformat": 4,
 "nbformat_minor": 2
}
